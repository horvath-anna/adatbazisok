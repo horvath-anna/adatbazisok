{
 "cells": [
  {
   "cell_type": "code",
   "execution_count": 4,
   "id": "b12aa116",
   "metadata": {},
   "outputs": [],
   "source": [
    "import pyodbc\n",
    "import pandas as pd\n",
    "\n",
    "def Lekerdezes(sqlstring):\n",
    "    df = pd.read_sql(sqlstring, cnxn)\n",
    "    print(df)\n",
    "\n",
    "cnxn = pyodbc.connect(driver='{SQL Server}', server='(local)', database='kulturtortenet',              \n",
    "               trusted_connection='yes')\n"
   ]
  },
  {
   "cell_type": "code",
   "execution_count": 5,
   "id": "a426b2bc",
   "metadata": {},
   "outputs": [
    {
     "name": "stdout",
     "output_type": "stream",
     "text": [
      "    id          nev  tagszam\n",
      "0    1     Királyok        4\n",
      "1    2  Nyerő Páros        2\n",
      "2    3    Anonymous        3\n",
      "3    4     Visegrád        3\n",
      "4    5      Kolozsi        5\n",
      "5    6      Pecások        3\n",
      "6    7     Dobozoló        4\n",
      "7    8    #unboxing        5\n",
      "8    9     Vuvuzela        3\n",
      "9   10      Tom&Tom        2\n",
      "10  11         #win        4\n",
      "11  12          STG        3\n",
      "12  13         Keri        3\n",
      "13  14    Kismackók        5\n"
     ]
    },
    {
     "name": "stderr",
     "output_type": "stream",
     "text": [
      "C:\\Users\\Anna\\AppData\\Local\\Temp\\ipykernel_16688\\135000075.py:5: UserWarning: pandas only supports SQLAlchemy connectable (engine/connection) or database string URI or sqlite3 DBAPI2 connection. Other DBAPI2 objects are not tested. Please consider using SQLAlchemy.\n",
      "  df = pd.read_sql(sqlstring, cnxn)\n"
     ]
    }
   ],
   "source": [
    "Lekerdezes(\"Select * from csapat\")"
   ]
  },
  {
   "cell_type": "code",
   "execution_count": 6,
   "id": "f0934a74",
   "metadata": {},
   "outputs": [
    {
     "name": "stdout",
     "output_type": "stream",
     "text": [
      "            nev  pontszam\n",
      "0      Vuvuzela      1652\n",
      "1      Dobozoló      1589\n",
      "2       Pecások      1494\n",
      "3       Kolozsi      1479\n",
      "4     #unboxing      1454\n",
      "5   Nyerő Páros      1445\n",
      "6       Tom&Tom      1437\n",
      "7          Keri      1404\n",
      "8           STG      1401\n",
      "9      Visegrád      1394\n",
      "10     Királyok      1390\n",
      "11    Anonymous      1361\n",
      "12         #win      1151\n"
     ]
    },
    {
     "name": "stderr",
     "output_type": "stream",
     "text": [
      "C:\\Users\\Anna\\AppData\\Local\\Temp\\ipykernel_16688\\135000075.py:5: UserWarning: pandas only supports SQLAlchemy connectable (engine/connection) or database string URI or sqlite3 DBAPI2 connection. Other DBAPI2 objects are not tested. Please consider using SQLAlchemy.\n",
      "  df = pd.read_sql(sqlstring, cnxn)\n"
     ]
    }
   ],
   "source": [
    "Lekerdezes(\"\"\"\n",
    "select\n",
    "    cs.nev,\n",
    "    sum(m.pontszam) as pontszam\n",
    "from csapat cs \n",
    "join megoldas m on cs.id = m.csapatid \n",
    "group by cs.nev\n",
    "order by sum(m.pontszam) desc\n",
    "\"\"\")"
   ]
  },
  {
   "cell_type": "code",
   "execution_count": 27,
   "id": "24441272",
   "metadata": {},
   "outputs": [
    {
     "name": "stdout",
     "output_type": "stream",
     "text": [
      "              ag  db\n",
      "0       irodalom   4\n",
      "1  képzőművészet   4\n",
      "2   zeneművészet   3\n",
      "3  építőművészet   2\n",
      "4   filmművészet   2\n"
     ]
    },
    {
     "name": "stderr",
     "output_type": "stream",
     "text": [
      "C:\\Users\\Anna\\AppData\\Local\\Temp\\ipykernel_16688\\135000075.py:5: UserWarning: pandas only supports SQLAlchemy connectable (engine/connection) or database string URI or sqlite3 DBAPI2 connection. Other DBAPI2 objects are not tested. Please consider using SQLAlchemy.\n",
      "  df = pd.read_sql(sqlstring, cnxn)\n"
     ]
    }
   ],
   "source": [
    "Lekerdezes(\"\"\"\n",
    "select\n",
    "    ag,\n",
    "    count(nevado) as db\n",
    "from feladatsor\n",
    "group by ag\n",
    "order by count(nevado) desc\n",
    "           \"\"\")"
   ]
  },
  {
   "cell_type": "code",
   "execution_count": 21,
   "id": "e458d4e4",
   "metadata": {},
   "outputs": [
    {
     "name": "stdout",
     "output_type": "stream",
     "text": [
      "            nev  Leadott megoldások száma\n",
      "0     #unboxing                        83\n",
      "1     #unboxing                        83\n",
      "2     #unboxing                        83\n",
      "3     #unboxing                        83\n",
      "4     #unboxing                        83\n",
      "...         ...                       ...\n",
      "1112   Vuvuzela                        88\n",
      "1113   Vuvuzela                        88\n",
      "1114   Vuvuzela                        88\n",
      "1115   Vuvuzela                        88\n",
      "1116   Vuvuzela                        88\n",
      "\n",
      "[1117 rows x 2 columns]\n"
     ]
    },
    {
     "name": "stderr",
     "output_type": "stream",
     "text": [
      "C:\\Users\\Anna\\AppData\\Local\\Temp\\ipykernel_16688\\135000075.py:5: UserWarning: pandas only supports SQLAlchemy connectable (engine/connection) or database string URI or sqlite3 DBAPI2 connection. Other DBAPI2 objects are not tested. Please consider using SQLAlchemy.\n",
      "  df = pd.read_sql(sqlstring, cnxn)\n"
     ]
    }
   ],
   "source": [
    "Lekerdezes(\"\"\"\n",
    "select \n",
    "    cs.nev,\n",
    "    count(m.id) over(partition by cs.nev) as 'Leadott megoldások száma'\n",
    "from csapat cs join megoldas m on cs.id=m.csapatid\n",
    "           \"\"\")"
   ]
  },
  {
   "cell_type": "code",
   "execution_count": 20,
   "id": "cabd8bfa",
   "metadata": {},
   "outputs": [
    {
     "name": "stdout",
     "output_type": "stream",
     "text": [
      "    id        nevado  Össz pontszám\n",
      "0    1    Ybl Miklós            150\n",
      "1    1    Ybl Miklós            150\n",
      "2    1    Ybl Miklós            150\n",
      "3    1    Ybl Miklós            150\n",
      "4    1    Ybl Miklós            150\n",
      "..  ..           ...            ...\n",
      "84  15  Liszt Ferenc            150\n",
      "85  15  Liszt Ferenc            150\n",
      "86  15  Liszt Ferenc            150\n",
      "87  15  Liszt Ferenc            150\n",
      "88  15  Liszt Ferenc            150\n",
      "\n",
      "[89 rows x 3 columns]\n"
     ]
    },
    {
     "name": "stderr",
     "output_type": "stream",
     "text": [
      "C:\\Users\\Anna\\AppData\\Local\\Temp\\ipykernel_16688\\135000075.py:5: UserWarning: pandas only supports SQLAlchemy connectable (engine/connection) or database string URI or sqlite3 DBAPI2 connection. Other DBAPI2 objects are not tested. Please consider using SQLAlchemy.\n",
      "  df = pd.read_sql(sqlstring, cnxn)\n"
     ]
    }
   ],
   "source": [
    "Lekerdezes(\"\"\" \n",
    "        select fs.id, \n",
    "            fs.nevado,\n",
    "           sum(pontszam) over(partition by fs.id) as 'Össz pontszám'\n",
    "        from feladatsor fs join feladat f on fs.id=f.feladatsorid\"\"\")"
   ]
  },
  {
   "cell_type": "code",
   "execution_count": 28,
   "id": "a1c27dad",
   "metadata": {},
   "outputs": [],
   "source": [
    "cursor = cnxn.cursor()\n",
    "\n",
    "cursor.execute(\"\"\"\n",
    "               insert into csapat (id, nev,tagszam)\n",
    "               values(14,'Kismackók',3)\n",
    "               \"\"\")\n",
    "\n",
    "cnxn.commit()"
   ]
  },
  {
   "cell_type": "code",
   "execution_count": 29,
   "id": "3ad7d90d",
   "metadata": {},
   "outputs": [],
   "source": [
    "cursor.execute(\"\"\"\n",
    "                update csapat\n",
    "                set tagszam=5\n",
    "               where nev='Kismackók'\n",
    "               \"\"\")\n",
    "cnxn.commit()"
   ]
  },
  {
   "cell_type": "code",
   "execution_count": 30,
   "id": "f2f6ac41",
   "metadata": {},
   "outputs": [],
   "source": [
    "cursor.execute(\"\"\"\n",
    "                delete from megoldas\n",
    "                where pontszam=0\n",
    "               \"\"\")\n",
    "cnxn.commit()"
   ]
  },
  {
   "cell_type": "code",
   "execution_count": 33,
   "id": "5ded189d",
   "metadata": {},
   "outputs": [],
   "source": [
    "cursor.execute(\"\"\" delete from feladatsor\n",
    "                where ag='irodalom'\"\"\")\n",
    "cnxn.commit()"
   ]
  },
  {
   "cell_type": "code",
   "execution_count": 34,
   "id": "05720c99",
   "metadata": {},
   "outputs": [],
   "source": [
    "cursor.execute(\"\"\"delete from megoldas where csapatid=3\"\"\")\n",
    "cnxn.commit()"
   ]
  }
 ],
 "metadata": {
  "kernelspec": {
   "display_name": "Python 3",
   "language": "python",
   "name": "python3"
  },
  "language_info": {
   "codemirror_mode": {
    "name": "ipython",
    "version": 3
   },
   "file_extension": ".py",
   "mimetype": "text/x-python",
   "name": "python",
   "nbconvert_exporter": "python",
   "pygments_lexer": "ipython3",
   "version": "3.9.13"
  }
 },
 "nbformat": 4,
 "nbformat_minor": 5
}
