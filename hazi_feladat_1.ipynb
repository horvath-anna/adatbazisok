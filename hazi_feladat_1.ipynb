{
    "metadata": {
        "kernelspec": {
            "name": "SQL",
            "display_name": "SQL",
            "language": "sql"
        },
        "language_info": {
            "name": "sql",
            "version": ""
        }
    },
    "nbformat_minor": 2,
    "nbformat": 4,
    "cells": [
        {
            "cell_type": "code",
            "source": [
                "SELECT\r\n",
                "       MAX(MENNYISEG) AS 'Maximum rendelt mennyiség',\r\n",
                "       MIN(MENNYISEG) As 'Minimum rendelt mennyiség',\r\n",
                "       ROUND(AVG(MENNYISEG),2) AS 'Átlagosan rendelt mennyiség',\r\n",
                "       ROUND(STDEV(MENNYISEG),2) AS 'Rendelt mennyiség szórása',\r\n",
                "       ROUND(VAR(MENNYISEG),2) AS 'Rendelt mennyiség varianciája' \r\n",
                "FROM Rendeles_tetel"
            ],
            "metadata": {
                "azdata_cell_guid": "daa5587e-d4b3-4091-9426-96a09df512c5",
                "language": "sql",
                "tags": []
            },
            "outputs": [
                {
                    "output_type": "display_data",
                    "data": {
                        "text/html": "(1 row affected)"
                    },
                    "metadata": {}
                },
                {
                    "output_type": "display_data",
                    "data": {
                        "text/html": "Total execution time: 00:00:00.077"
                    },
                    "metadata": {}
                },
                {
                    "output_type": "execute_result",
                    "execution_count": 7,
                    "data": {
                        "application/vnd.dataresource+json": {
                            "schema": {
                                "fields": [
                                    {
                                        "name": "Maximum rendelt mennyiség"
                                    },
                                    {
                                        "name": "Minimum rendelt mennyiség"
                                    },
                                    {
                                        "name": "Átlagosan rendelt mennyiség"
                                    },
                                    {
                                        "name": "Rendelt mennyiség szórása"
                                    },
                                    {
                                        "name": "Rendelt mennyiség varianciája"
                                    }
                                ]
                            },
                            "data": [
                                {
                                    "Maximum rendelt mennyiség": "90",
                                    "Minimum rendelt mennyiség": "1",
                                    "Átlagosan rendelt mennyiség": "39,21",
                                    "Rendelt mennyiség szórása": "28,73",
                                    "Rendelt mennyiség varianciája": "825,25"
                                }
                            ]
                        },
                        "text/html": "<table><tr><th>Maximum rendelt mennyiség</th><th>Minimum rendelt mennyiség</th><th>Átlagosan rendelt mennyiség</th><th>Rendelt mennyiség szórása</th><th>Rendelt mennyiség varianciája</th></tr><tr><td>90</td><td>1</td><td>39,21</td><td>28,73</td><td>825,25</td></tr></table>"
                    },
                    "metadata": {}
                }
            ],
            "execution_count": 7
        },
        {
            "cell_type": "code",
            "source": [
                "SELECT\r\n",
                "    (SELECT\r\n",
                "        COUNT(*)\r\n",
                "    FROM Rendeles_tetel\r\n",
                "    WHERE EGYSEGAR IS NULL) \r\n",
                "    AS 'NUll értékek száma',\r\n",
                "\r\n",
                "    ROUND(CAST((SELECT \r\n",
                "                    COUNT(*)\r\n",
                "                FROM Rendeles_tetel\r\n",
                "                WHERE EGYSEGAR IS NULL) \r\n",
                "          AS float)/CAST(COUNT(*)AS float)*100,4)\r\n",
                "    AS 'Null értékek százaléka'\r\n",
                "    \r\n",
                "FROM Rendeles_tetel"
            ],
            "metadata": {
                "azdata_cell_guid": "b80ecb70-fe65-4407-b911-eafb4600bc43",
                "language": "sql",
                "tags": []
            },
            "outputs": [
                {
                    "output_type": "display_data",
                    "data": {
                        "text/html": "(1 row affected)"
                    },
                    "metadata": {}
                },
                {
                    "output_type": "display_data",
                    "data": {
                        "text/html": "Total execution time: 00:00:00.066"
                    },
                    "metadata": {}
                },
                {
                    "output_type": "execute_result",
                    "metadata": {},
                    "execution_count": 37,
                    "data": {
                        "application/vnd.dataresource+json": {
                            "schema": {
                                "fields": [
                                    {
                                        "name": "NUll értékek száma"
                                    },
                                    {
                                        "name": "Null értékek százaléka"
                                    }
                                ]
                            },
                            "data": [
                                {
                                    "NUll értékek száma": "153",
                                    "Null értékek százaléka": "0,0938"
                                }
                            ]
                        },
                        "text/html": [
                            "<table>",
                            "<tr><th>NUll értékek száma</th><th>Null értékek százaléka</th></tr>",
                            "<tr><td>153</td><td>0,0938</td></tr>",
                            "</table>"
                        ]
                    }
                }
            ],
            "execution_count": 37
        },
        {
            "cell_type": "code",
            "source": [
                "SELECT\r\n",
                "       MAX(EGYSEGAR) AS 'Legmagassabb egységár',\r\n",
                "       MIN(EGYSEGAR) As 'Legalacsonyabb egységár',\r\n",
                "       ROUND(AVG(EGYSEGAR),2) AS 'Átlagos egységár',\r\n",
                "       ROUND(STDEV(EGYSEGAR),2) AS 'Egységár szórása',\r\n",
                "       ROUND(VAR(EGYSEGAR),2) AS 'Egységár varianciája'\r\n",
                "FROM Rendeles_tetel"
            ],
            "metadata": {
                "azdata_cell_guid": "32ebd378-e3e0-4f67-a025-e45406a369bb",
                "language": "sql"
            },
            "outputs": [
                {
                    "output_type": "display_data",
                    "data": {
                        "text/html": "Warning: Null value is eliminated by an aggregate or other SET operation."
                    },
                    "metadata": {}
                },
                {
                    "output_type": "display_data",
                    "data": {
                        "text/html": "(1 row affected)"
                    },
                    "metadata": {}
                },
                {
                    "output_type": "display_data",
                    "data": {
                        "text/html": "Total execution time: 00:00:00.083"
                    },
                    "metadata": {}
                },
                {
                    "output_type": "execute_result",
                    "metadata": {},
                    "execution_count": 15,
                    "data": {
                        "application/vnd.dataresource+json": {
                            "schema": {
                                "fields": [
                                    {
                                        "name": "Legmagassabb egységár"
                                    },
                                    {
                                        "name": "Legalacsonyabb egységár"
                                    },
                                    {
                                        "name": "Átlagos egységár"
                                    },
                                    {
                                        "name": "Egységár szórása"
                                    },
                                    {
                                        "name": "Egységár varianciája"
                                    }
                                ]
                            },
                            "data": [
                                {
                                    "Legmagassabb egységár": "46000",
                                    "Legalacsonyabb egységár": "0",
                                    "Átlagos egységár": "1871,97",
                                    "Egységár szórása": "5844,07",
                                    "Egységár varianciája": "34153211,22"
                                }
                            ]
                        },
                        "text/html": [
                            "<table>",
                            "<tr><th>Legmagassabb egységár</th><th>Legalacsonyabb egységár</th><th>Átlagos egységár</th><th>Egységár szórása</th><th>Egységár varianciája</th></tr>",
                            "<tr><td>46000</td><td>0</td><td>1871,97</td><td>5844,07</td><td>34153211,22</td></tr>",
                            "</table>"
                        ]
                    }
                }
            ],
            "execution_count": 15
        },
        {
            "cell_type": "code",
            "source": [
                "SELECT\r\n",
                "    LEN(TERMEKKOD) AS 'termékkód hossza',\r\n",
                "    COUNT(*) AS 'db'\r\n",
                "FROM Rendeles_tetel\r\n",
                "GROUP BY(LEN(TERMEKKOD))"
            ],
            "metadata": {
                "language": "sql",
                "azdata_cell_guid": "a066200c-f92e-4e51-b152-0b609d55144f"
            },
            "outputs": [
                {
                    "output_type": "display_data",
                    "data": {
                        "text/html": "(2 rows affected)"
                    },
                    "metadata": {}
                },
                {
                    "output_type": "display_data",
                    "data": {
                        "text/html": "Total execution time: 00:00:00.073"
                    },
                    "metadata": {}
                },
                {
                    "output_type": "execute_result",
                    "metadata": {},
                    "execution_count": 46,
                    "data": {
                        "application/vnd.dataresource+json": {
                            "schema": {
                                "fields": [
                                    {
                                        "name": "termékkód hossza"
                                    },
                                    {
                                        "name": "db"
                                    }
                                ]
                            },
                            "data": [
                                {
                                    "termékkód hossza": "9",
                                    "db": "132804"
                                },
                                {
                                    "termékkód hossza": "10",
                                    "db": "30375"
                                }
                            ]
                        },
                        "text/html": [
                            "<table>",
                            "<tr><th>termékkód hossza</th><th>db</th></tr>",
                            "<tr><td>9</td><td>132804</td></tr>",
                            "<tr><td>10</td><td>30375</td></tr>",
                            "</table>"
                        ]
                    }
                }
            ],
            "execution_count": 46
        }
    ]
}